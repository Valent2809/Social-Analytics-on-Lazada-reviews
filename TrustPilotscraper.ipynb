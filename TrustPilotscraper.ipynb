{
 "cells": [
  {
   "cell_type": "code",
   "execution_count": 3,
   "id": "4a3c5927-699c-4f72-983b-1312252456fb",
   "metadata": {},
   "outputs": [
    {
     "name": "stderr",
     "output_type": "stream",
     "text": [
      "C:\\anaconda3\\envs\\py39\\lib\\site-packages\\requests\\__init__.py:89: RequestsDependencyWarning: urllib3 (1.25.11) or chardet (4.0.0) doesn't match a supported version!\n",
      "  warnings.warn(\"urllib3 ({}) or chardet ({}) doesn't match a supported \"\n"
     ]
    }
   ],
   "source": [
    "import requests\n",
    "from bs4 import BeautifulSoup\n",
    "import json\n",
    "import time\n",
    "import pandas as pd\n",
    "\n",
    "def get_reviews_from_page(url):\n",
    "    try:\n",
    "        req = requests.get(url, headers={\"User-Agent\": \"Mozilla/5.0\"})\n",
    "        req.raise_for_status()  # Raise an error for bad status codes\n",
    "        time.sleep(2)  # Add a delay to avoid overwhelming the server\n",
    "        soup = BeautifulSoup(req.text, 'html.parser')\n",
    "        reviews_raw = soup.find(\"script\", id=\"__NEXT_DATA__\").string\n",
    "        reviews_raw = json.loads(reviews_raw)\n",
    "        return reviews_raw[\"props\"][\"pageProps\"][\"reviews\"]\n",
    "    except (requests.RequestException, json.JSONDecodeError, AttributeError) as e:\n",
    "        return []\n",
    "\n",
    "def scrape_trustpilot_reviews(base_url: str):\n",
    "    reviews_data = []\n",
    "\n",
    "    page_number = 1\n",
    "    while True:\n",
    "        url = f\"{base_url}?page={page_number}\"\n",
    "        reviews = get_reviews_from_page(url)\n",
    "\n",
    "        if not reviews:\n",
    "            break\n",
    "\n",
    "        for review in reviews:\n",
    "            data = {\n",
    "                'Date': pd.to_datetime(review[\"dates\"][\"publishedDate\"]).strftime(\"%Y-%m-%d\"),\n",
    "                'Author': review[\"consumer\"][\"displayName\"],\n",
    "                'Body': review[\"text\"],\n",
    "                'Heading': review[\"title\"],\n",
    "                'Rating': review[\"rating\"],\n",
    "                'Location': review[\"consumer\"][\"countryCode\"]\n",
    "            }\n",
    "            reviews_data.append(data)\n",
    "        \n",
    "        page_number += 1\n",
    "\n",
    "    # Remove duplicates based on the 'Body' field\n",
    "    reviews_data = [dict(t) for t in {tuple(d.items()) for d in reviews_data}]\n",
    "    \n",
    "    return reviews_data"
   ]
  },
  {
   "cell_type": "code",
   "execution_count": 4,
   "id": "55563b08-2af5-44f5-8bf3-b18bee19f4bf",
   "metadata": {},
   "outputs": [],
   "source": [
    "data = scrape_trustpilot_reviews('https://www.trustpilot.com/review/lazada.sg')"
   ]
  },
  {
   "cell_type": "code",
   "execution_count": 7,
   "id": "ba70e2da-f0e2-4dcc-b030-8db5e9d2be2b",
   "metadata": {},
   "outputs": [
    {
     "data": {
      "text/plain": [
       "{'Date': '2022-11-05',\n",
       " 'Author': 'Tan Ronald',\n",
       " 'Body': 'Lazada slow in taking action to scammers.\\nMy order $1699 SGD Sterra Tankless water was indicated as delivered.\\nDidn’t receive the item. Difficult to contact Lazada, live agent said able to refund. Submit a request But was declined . Lazada just indicated Due to Lazada policy . Saw another buyer post the same review also, about be scammed. Till now the sellers advertisement was not taken down. I Do not trust anymore. Will file to case about this issue.',\n",
       " 'Heading': 'Lazada slow in action against fraud / scammers',\n",
       " 'Rating': 1,\n",
       " 'Location': 'SG'}"
      ]
     },
     "execution_count": 7,
     "metadata": {},
     "output_type": "execute_result"
    }
   ],
   "source": [
    "data[0]"
   ]
  },
  {
   "cell_type": "code",
   "execution_count": 6,
   "id": "844cab1e-1be2-46c9-81ce-25679038d228",
   "metadata": {},
   "outputs": [],
   "source": [
    "df = pd.DataFrame(data)"
   ]
  },
  {
   "cell_type": "code",
   "execution_count": 8,
   "id": "735d7fb5-7fa6-4e3f-b1d1-4a7162cffb4b",
   "metadata": {},
   "outputs": [],
   "source": [
    "df.rename(columns={'Body':'Review'},inplace=True)"
   ]
  },
  {
   "cell_type": "code",
   "execution_count": 10,
   "id": "4a2d51ed-92c0-44fb-9590-bfa9e74e6f78",
   "metadata": {},
   "outputs": [],
   "source": [
    "df.to_excel('trustpilot_reviews.xlsx',index=False)"
   ]
  }
 ],
 "metadata": {
  "kernelspec": {
   "display_name": "Python 3 (ipykernel)",
   "language": "python",
   "name": "python3"
  },
  "language_info": {
   "codemirror_mode": {
    "name": "ipython",
    "version": 3
   },
   "file_extension": ".py",
   "mimetype": "text/x-python",
   "name": "python",
   "nbconvert_exporter": "python",
   "pygments_lexer": "ipython3",
   "version": "3.9.18"
  }
 },
 "nbformat": 4,
 "nbformat_minor": 5
}
