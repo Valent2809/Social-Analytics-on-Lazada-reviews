{
 "cells": [
  {
   "cell_type": "code",
   "execution_count": 49,
   "id": "6005116b-a7b1-42a4-aea5-5f8edc1b7f12",
   "metadata": {},
   "outputs": [],
   "source": [
    "from bs4 import BeautifulSoup\n",
    "import requests\n",
    "import random\n",
    "import pandas as pd\n",
    "import time\n",
    "from selenium import webdriver\n",
    "from selenium.webdriver.chrome.options import Options\n",
    "from selenium.webdriver.chrome.service import Service\n",
    "from bs4 import BeautifulSoup as bs\n",
    "chrome_options = Options()\n",
    "chrome_options.add_argument(\"--headless\")\n",
    "chrome_options.add_argument(\"--start-maximized\")\n",
    "service = Service()\n",
    "driver = webdriver.Chrome(service=service, options=chrome_options)\n",
    "\n",
    "def extract_sitejabber():\n",
    "    name_list= []\n",
    "    title_list = []\n",
    "    date_list = []\n",
    "    ratings_list = []\n",
    "    reviews_list = []\n",
    "    for i in range(1,9):\n",
    "        driver.get(f\"https://www.sitejabber.com/reviews/lazada.sg?page={i}#reviews\")\n",
    "        soup = BeautifulSoup(driver.page_source, 'html.parser')\n",
    "        interested_section = soup.find('div',attrs={\"class\": \"url-reviews__list\"})\n",
    "        review_list = interested_section.find_all('div', id=lambda x: x and x.startswith('ReviewRow'))\n",
    "        for review in review_list:\n",
    "            date = review.find('div',attrs={\"class\":\"review__date\"}).text.strip()\n",
    "            date_list.append(date)\n",
    "            name = review.find('span',attrs={\"class\":\"review__author__name__link\"}).text.strip().replace(\"$nbsp\", \"\")\n",
    "            name_list.append(name)\n",
    "            title = review.find('span',attrs={\"class\":\"review__title__text\"}).text.strip()\n",
    "            title_list.append(title)\n",
    "            review_text = review.find('p').text.strip(\"\\n\")\n",
    "            reviews_list.append(review_text)\n",
    "            rating = review.find('div', attrs={'class':\"stars stars stars-container stars-container--normal\"})['data-rating']\n",
    "            ratings_list.append(rating)\n",
    "            \n",
    "    return {'date':date_list,'name':name_list,'rating':ratings_list,'title':title_list,'review':reviews_list}"
   ]
  },
  {
   "cell_type": "code",
   "execution_count": 50,
   "id": "f48bcb26-2da9-439b-bb90-08a24aede169",
   "metadata": {},
   "outputs": [],
   "source": [
    "reviews = extract_sitejabber()"
   ]
  },
  {
   "cell_type": "code",
   "execution_count": 61,
   "id": "439ecf09-ea4c-4e92-82b0-c9d999459bd4",
   "metadata": {},
   "outputs": [
    {
     "name": "stdout",
     "output_type": "stream",
     "text": [
      "<class 'pandas.core.frame.DataFrame'>\n",
      "RangeIndex: 189 entries, 0 to 188\n",
      "Data columns (total 5 columns):\n",
      " #   Column  Non-Null Count  Dtype         \n",
      "---  ------  --------------  -----         \n",
      " 0   date    189 non-null    datetime64[ns]\n",
      " 1   name    189 non-null    object        \n",
      " 2   rating  189 non-null    object        \n",
      " 3   title   189 non-null    object        \n",
      " 4   review  189 non-null    object        \n",
      "dtypes: datetime64[ns](1), object(4)\n",
      "memory usage: 7.5+ KB\n"
     ]
    }
   ],
   "source": [
    "df = pd.DataFrame(reviews)\n",
    "df['date'] = pd.to_datetime(df['date'].str.replace(r'(\\d+)(st|nd|rd|th)', r'\\1', regex=True))\n",
    "df.info()"
   ]
  },
  {
   "cell_type": "code",
   "execution_count": 62,
   "id": "8fed2899-f23e-4045-805b-cf37d86a80c2",
   "metadata": {},
   "outputs": [],
   "source": [
    "df.to_excel('sitejabber_reviews.xlsx',index=False)"
   ]
  },
  {
   "cell_type": "code",
   "execution_count": null,
   "id": "63373a61-3ea1-4fc2-a144-dc8a764cb5a0",
   "metadata": {},
   "outputs": [],
   "source": []
  }
 ],
 "metadata": {
  "kernelspec": {
   "display_name": "Python 3 (ipykernel)",
   "language": "python",
   "name": "python3"
  },
  "language_info": {
   "codemirror_mode": {
    "name": "ipython",
    "version": 3
   },
   "file_extension": ".py",
   "mimetype": "text/x-python",
   "name": "python",
   "nbconvert_exporter": "python",
   "pygments_lexer": "ipython3",
   "version": "3.9.18"
  }
 },
 "nbformat": 4,
 "nbformat_minor": 5
}
